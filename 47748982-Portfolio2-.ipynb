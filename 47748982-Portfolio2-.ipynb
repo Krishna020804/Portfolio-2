{
 "cells": [
  {
   "cell_type": "markdown",
   "id": "rSF_UH-XklO4",
   "metadata": {
    "id": "rSF_UH-XklO4"
   },
   "source": [
    "## Analysis of a Car Sell Dataset Part 2"
   ]
  },
  {
   "cell_type": "markdown",
   "id": "aWJHrXuwklO5",
   "metadata": {
    "id": "aWJHrXuwklO5"
   },
   "source": [
    "There are two goals in the second analysis task: (1), train linear regression models to predict the selling prices of cars; (2) assess the data ethics issues. There are *7* questions in this portfolio. \n",
    "\n",
    "The first goal involves a standard Data Science workflow: exploring data, building models, making predictions, and evaluating results. In this task, we will explore the impacts of feature selections and different sizes of training/testing data on the model performance. We will use another cleaned car_sells sub-dataset that **is different from** the one in “Analysis of a Car Sell Dataset” task 1. This goal covers Questions *1-6*. \n",
    "\n",
    "Question *7* is about data ethics issue."
   ]
  },
  {
   "cell_type": "code",
   "execution_count": 1,
   "id": "f2b11c57",
   "metadata": {},
   "outputs": [],
   "source": [
    "your_name = \"Krishna Nirmale\"\n",
    "your_student_id = \"47748982\""
   ]
  },
  {
   "cell_type": "code",
   "execution_count": 3,
   "id": "0e327626",
   "metadata": {},
   "outputs": [],
   "source": [
    "import pandas as pd\n",
    "import numpy as np\n",
    "from sklearn.model_selection import train_test_split\n",
    "from sklearn import linear_model\n",
    "from sklearn.metrics import r2_score\n",
    "\n",
    "import seaborn as sns\n",
    "import matplotlib.pylab as plt\n",
    "%matplotlib inline"
   ]
  },
  {
   "cell_type": "markdown",
   "id": "0g4OhHHzklO6",
   "metadata": {
    "id": "0g4OhHHzklO6"
   },
   "source": [
    "### Q1: Import Cleaned Car Sell Dataset\n",
    "The csv file named 'car_sells_clean_data.csv' is provided. You may need to use the Pandas method, i.e., `read_csv`, for reading it. After that, please print out its total length."
   ]
  },
  {
   "cell_type": "code",
   "execution_count": 12,
   "id": "9ki1LBees70W",
   "metadata": {
    "colab": {
     "base_uri": "https://localhost:8080/"
    },
    "id": "9ki1LBees70W",
    "outputId": "d3ff4349-47d0-423b-ef22-caf78c9883f5"
   },
   "outputs": [
    {
     "name": "stdout",
     "output_type": "stream",
     "text": [
      "(3657, 8)\n"
     ]
    }
   ],
   "source": [
    "nitesh=pd.read_csv(\"car_sells_clean_data.csv\")\n",
    "print(nitesh.shape)"
   ]
  },
  {
   "cell_type": "code",
   "execution_count": 16,
   "id": "94f35780-d68e-4e1c-a82d-c5a8c7d353f0",
   "metadata": {},
   "outputs": [
    {
     "name": "stdout",
     "output_type": "stream",
     "text": [
      "length of data:  3657\n"
     ]
    }
   ],
   "source": [
    "print(\"length of data: \",len(nitesh))"
   ]
  },
  {
   "cell_type": "markdown",
   "id": "RpXf1q3UklO7",
   "metadata": {
    "id": "RpXf1q3UklO7"
   },
   "source": [
    "### Q2: Explore the Dataset\n",
    "\n",
    "* Use the methods, i.e., `head()` and `info()`, to have a rough picture about the data, e.g., how many columns, and the data types of each column.\n",
    "* As our goal is to predict cars' selling prices given other columns, please get the correlations between year/km_driven/seller_type/fuel/owner and selling_price by using the `corr()` method.\n",
    "* To get the correlations between different features, you may need to first convert the categorical features (i.e., seller_type and owner) into numerial values. For doing this, you may need to import `OrdinalEncoder` from `sklearn.preprocessing` (refer to the useful exmaples [here](https://pbpython.com/categorical-encoding.html))\n",
    "* Please provide ___necessary explanations/analysis___ on the correlations, and figure out which are the ___most___ and ___least___ corrleated features regarding selling_price. Try to ___discuss___ how the correlation will affect the final prediction results, if we use these features to train a regression model for selling_price prediction. In what follows, we will conduct experiments to verify your hypothesis."
   ]
  },
  {
   "cell_type": "code",
   "execution_count": 46,
   "id": "7551c655",
   "metadata": {},
   "outputs": [
    {
     "data": {
      "text/html": [
       "<div>\n",
       "<style scoped>\n",
       "    .dataframe tbody tr th:only-of-type {\n",
       "        vertical-align: middle;\n",
       "    }\n",
       "\n",
       "    .dataframe tbody tr th {\n",
       "        vertical-align: top;\n",
       "    }\n",
       "\n",
       "    .dataframe thead th {\n",
       "        text-align: right;\n",
       "    }\n",
       "</style>\n",
       "<table border=\"1\" class=\"dataframe\">\n",
       "  <thead>\n",
       "    <tr style=\"text-align: right;\">\n",
       "      <th></th>\n",
       "      <th>name</th>\n",
       "      <th>year</th>\n",
       "      <th>selling_price</th>\n",
       "      <th>km_driven</th>\n",
       "      <th>fuel</th>\n",
       "      <th>seller_type</th>\n",
       "      <th>transmission</th>\n",
       "      <th>owner</th>\n",
       "      <th>seller_type_new</th>\n",
       "      <th>owner_new</th>\n",
       "      <th>fuel_new</th>\n",
       "    </tr>\n",
       "  </thead>\n",
       "  <tbody>\n",
       "    <tr>\n",
       "      <th>0</th>\n",
       "      <td>Maruti 800 AC</td>\n",
       "      <td>2007.0</td>\n",
       "      <td>60000</td>\n",
       "      <td>70000</td>\n",
       "      <td>Petrol</td>\n",
       "      <td>Individual</td>\n",
       "      <td>Manual</td>\n",
       "      <td>First Owner</td>\n",
       "      <td>1</td>\n",
       "      <td>0</td>\n",
       "      <td>1</td>\n",
       "    </tr>\n",
       "    <tr>\n",
       "      <th>1</th>\n",
       "      <td>Maruti Wagon R LXI Minor</td>\n",
       "      <td>2007.0</td>\n",
       "      <td>135000</td>\n",
       "      <td>50000</td>\n",
       "      <td>Petrol</td>\n",
       "      <td>Individual</td>\n",
       "      <td>Manual</td>\n",
       "      <td>First Owner</td>\n",
       "      <td>1</td>\n",
       "      <td>0</td>\n",
       "      <td>1</td>\n",
       "    </tr>\n",
       "    <tr>\n",
       "      <th>2</th>\n",
       "      <td>Hyundai Verna 1.6 SX</td>\n",
       "      <td>2012.0</td>\n",
       "      <td>600000</td>\n",
       "      <td>100000</td>\n",
       "      <td>Diesel</td>\n",
       "      <td>Individual</td>\n",
       "      <td>Manual</td>\n",
       "      <td>First Owner</td>\n",
       "      <td>1</td>\n",
       "      <td>0</td>\n",
       "      <td>0</td>\n",
       "    </tr>\n",
       "    <tr>\n",
       "      <th>3</th>\n",
       "      <td>Datsun RediGO T Option</td>\n",
       "      <td>2017.0</td>\n",
       "      <td>250000</td>\n",
       "      <td>46000</td>\n",
       "      <td>Petrol</td>\n",
       "      <td>Individual</td>\n",
       "      <td>Manual</td>\n",
       "      <td>First Owner</td>\n",
       "      <td>1</td>\n",
       "      <td>0</td>\n",
       "      <td>1</td>\n",
       "    </tr>\n",
       "    <tr>\n",
       "      <th>4</th>\n",
       "      <td>Honda Amaze VX i-DTEC</td>\n",
       "      <td>2014.0</td>\n",
       "      <td>450000</td>\n",
       "      <td>141000</td>\n",
       "      <td>Diesel</td>\n",
       "      <td>Individual</td>\n",
       "      <td>Manual</td>\n",
       "      <td>Second Owner</td>\n",
       "      <td>1</td>\n",
       "      <td>1</td>\n",
       "      <td>0</td>\n",
       "    </tr>\n",
       "  </tbody>\n",
       "</table>\n",
       "</div>"
      ],
      "text/plain": [
       "                       name    year  selling_price  km_driven    fuel  \\\n",
       "0             Maruti 800 AC  2007.0          60000      70000  Petrol   \n",
       "1  Maruti Wagon R LXI Minor  2007.0         135000      50000  Petrol   \n",
       "2      Hyundai Verna 1.6 SX  2012.0         600000     100000  Diesel   \n",
       "3    Datsun RediGO T Option  2017.0         250000      46000  Petrol   \n",
       "4     Honda Amaze VX i-DTEC  2014.0         450000     141000  Diesel   \n",
       "\n",
       "  seller_type transmission         owner  seller_type_new  owner_new  fuel_new  \n",
       "0  Individual       Manual   First Owner                1          0         1  \n",
       "1  Individual       Manual   First Owner                1          0         1  \n",
       "2  Individual       Manual   First Owner                1          0         0  \n",
       "3  Individual       Manual   First Owner                1          0         1  \n",
       "4  Individual       Manual  Second Owner                1          1         0  "
      ]
     },
     "execution_count": 46,
     "metadata": {},
     "output_type": "execute_result"
    }
   ],
   "source": [
    "nitesh.head()"
   ]
  },
  {
   "cell_type": "code",
   "execution_count": 48,
   "id": "fb5a4255-c614-4c97-a9e7-6ac3baedadd5",
   "metadata": {},
   "outputs": [
    {
     "name": "stdout",
     "output_type": "stream",
     "text": [
      "<class 'pandas.core.frame.DataFrame'>\n",
      "RangeIndex: 3657 entries, 0 to 3656\n",
      "Data columns (total 11 columns):\n",
      " #   Column           Non-Null Count  Dtype  \n",
      "---  ------           --------------  -----  \n",
      " 0   name             3657 non-null   object \n",
      " 1   year             3657 non-null   float64\n",
      " 2   selling_price    3657 non-null   int64  \n",
      " 3   km_driven        3657 non-null   int64  \n",
      " 4   fuel             3657 non-null   object \n",
      " 5   seller_type      3657 non-null   object \n",
      " 6   transmission     3657 non-null   object \n",
      " 7   owner            3657 non-null   object \n",
      " 8   seller_type_new  3657 non-null   int64  \n",
      " 9   owner_new        3657 non-null   int64  \n",
      " 10  fuel_new         3657 non-null   int64  \n",
      "dtypes: float64(1), int64(5), object(5)\n",
      "memory usage: 314.4+ KB\n"
     ]
    }
   ],
   "source": [
    "nitesh.info()"
   ]
  },
  {
   "cell_type": "code",
   "execution_count": 50,
   "id": "1a1c3229-2338-4b5a-ad93-53631b97fef8",
   "metadata": {},
   "outputs": [
    {
     "data": {
      "text/html": [
       "<div>\n",
       "<style scoped>\n",
       "    .dataframe tbody tr th:only-of-type {\n",
       "        vertical-align: middle;\n",
       "    }\n",
       "\n",
       "    .dataframe tbody tr th {\n",
       "        vertical-align: top;\n",
       "    }\n",
       "\n",
       "    .dataframe thead th {\n",
       "        text-align: right;\n",
       "    }\n",
       "</style>\n",
       "<table border=\"1\" class=\"dataframe\">\n",
       "  <thead>\n",
       "    <tr style=\"text-align: right;\">\n",
       "      <th></th>\n",
       "      <th>seller_type</th>\n",
       "      <th>seller_type_new</th>\n",
       "    </tr>\n",
       "  </thead>\n",
       "  <tbody>\n",
       "    <tr>\n",
       "      <th>0</th>\n",
       "      <td>Individual</td>\n",
       "      <td>1</td>\n",
       "    </tr>\n",
       "    <tr>\n",
       "      <th>1</th>\n",
       "      <td>Individual</td>\n",
       "      <td>1</td>\n",
       "    </tr>\n",
       "    <tr>\n",
       "      <th>2</th>\n",
       "      <td>Individual</td>\n",
       "      <td>1</td>\n",
       "    </tr>\n",
       "    <tr>\n",
       "      <th>3</th>\n",
       "      <td>Individual</td>\n",
       "      <td>1</td>\n",
       "    </tr>\n",
       "    <tr>\n",
       "      <th>4</th>\n",
       "      <td>Individual</td>\n",
       "      <td>1</td>\n",
       "    </tr>\n",
       "    <tr>\n",
       "      <th>5</th>\n",
       "      <td>Individual</td>\n",
       "      <td>1</td>\n",
       "    </tr>\n",
       "    <tr>\n",
       "      <th>6</th>\n",
       "      <td>Individual</td>\n",
       "      <td>1</td>\n",
       "    </tr>\n",
       "    <tr>\n",
       "      <th>7</th>\n",
       "      <td>Individual</td>\n",
       "      <td>1</td>\n",
       "    </tr>\n",
       "    <tr>\n",
       "      <th>8</th>\n",
       "      <td>Individual</td>\n",
       "      <td>1</td>\n",
       "    </tr>\n",
       "    <tr>\n",
       "      <th>9</th>\n",
       "      <td>Individual</td>\n",
       "      <td>1</td>\n",
       "    </tr>\n",
       "    <tr>\n",
       "      <th>10</th>\n",
       "      <td>Dealer</td>\n",
       "      <td>0</td>\n",
       "    </tr>\n",
       "    <tr>\n",
       "      <th>11</th>\n",
       "      <td>Individual</td>\n",
       "      <td>1</td>\n",
       "    </tr>\n",
       "    <tr>\n",
       "      <th>12</th>\n",
       "      <td>Individual</td>\n",
       "      <td>1</td>\n",
       "    </tr>\n",
       "    <tr>\n",
       "      <th>13</th>\n",
       "      <td>Individual</td>\n",
       "      <td>1</td>\n",
       "    </tr>\n",
       "    <tr>\n",
       "      <th>14</th>\n",
       "      <td>Individual</td>\n",
       "      <td>1</td>\n",
       "    </tr>\n",
       "    <tr>\n",
       "      <th>15</th>\n",
       "      <td>Individual</td>\n",
       "      <td>1</td>\n",
       "    </tr>\n",
       "    <tr>\n",
       "      <th>16</th>\n",
       "      <td>Individual</td>\n",
       "      <td>1</td>\n",
       "    </tr>\n",
       "    <tr>\n",
       "      <th>17</th>\n",
       "      <td>Individual</td>\n",
       "      <td>1</td>\n",
       "    </tr>\n",
       "    <tr>\n",
       "      <th>18</th>\n",
       "      <td>Individual</td>\n",
       "      <td>1</td>\n",
       "    </tr>\n",
       "    <tr>\n",
       "      <th>19</th>\n",
       "      <td>Individual</td>\n",
       "      <td>1</td>\n",
       "    </tr>\n",
       "  </tbody>\n",
       "</table>\n",
       "</div>"
      ],
      "text/plain": [
       "   seller_type  seller_type_new\n",
       "0   Individual                1\n",
       "1   Individual                1\n",
       "2   Individual                1\n",
       "3   Individual                1\n",
       "4   Individual                1\n",
       "5   Individual                1\n",
       "6   Individual                1\n",
       "7   Individual                1\n",
       "8   Individual                1\n",
       "9   Individual                1\n",
       "10      Dealer                0\n",
       "11  Individual                1\n",
       "12  Individual                1\n",
       "13  Individual                1\n",
       "14  Individual                1\n",
       "15  Individual                1\n",
       "16  Individual                1\n",
       "17  Individual                1\n",
       "18  Individual                1\n",
       "19  Individual                1"
      ]
     },
     "execution_count": 50,
     "metadata": {},
     "output_type": "execute_result"
    }
   ],
   "source": [
    "from sklearn.preprocessing import OrdinalEncoder\n",
    "nitesh_ord=OrdinalEncoder(dtype=int)\n",
    "nitesh['seller_type_new']=nitesh_ord.fit_transform(nitesh[['seller_type']])\n",
    "nitesh[['seller_type','seller_type_new']].head(20)"
   ]
  },
  {
   "cell_type": "code",
   "execution_count": 52,
   "id": "5dbaa49f-bce1-40c2-bd00-8f394efc0898",
   "metadata": {},
   "outputs": [
    {
     "data": {
      "text/html": [
       "<div>\n",
       "<style scoped>\n",
       "    .dataframe tbody tr th:only-of-type {\n",
       "        vertical-align: middle;\n",
       "    }\n",
       "\n",
       "    .dataframe tbody tr th {\n",
       "        vertical-align: top;\n",
       "    }\n",
       "\n",
       "    .dataframe thead th {\n",
       "        text-align: right;\n",
       "    }\n",
       "</style>\n",
       "<table border=\"1\" class=\"dataframe\">\n",
       "  <thead>\n",
       "    <tr style=\"text-align: right;\">\n",
       "      <th></th>\n",
       "      <th>owner</th>\n",
       "      <th>owner_new</th>\n",
       "    </tr>\n",
       "  </thead>\n",
       "  <tbody>\n",
       "    <tr>\n",
       "      <th>0</th>\n",
       "      <td>First Owner</td>\n",
       "      <td>0</td>\n",
       "    </tr>\n",
       "    <tr>\n",
       "      <th>1</th>\n",
       "      <td>First Owner</td>\n",
       "      <td>0</td>\n",
       "    </tr>\n",
       "    <tr>\n",
       "      <th>2</th>\n",
       "      <td>First Owner</td>\n",
       "      <td>0</td>\n",
       "    </tr>\n",
       "    <tr>\n",
       "      <th>3</th>\n",
       "      <td>First Owner</td>\n",
       "      <td>0</td>\n",
       "    </tr>\n",
       "    <tr>\n",
       "      <th>4</th>\n",
       "      <td>Second Owner</td>\n",
       "      <td>1</td>\n",
       "    </tr>\n",
       "    <tr>\n",
       "      <th>5</th>\n",
       "      <td>First Owner</td>\n",
       "      <td>0</td>\n",
       "    </tr>\n",
       "    <tr>\n",
       "      <th>6</th>\n",
       "      <td>Second Owner</td>\n",
       "      <td>1</td>\n",
       "    </tr>\n",
       "    <tr>\n",
       "      <th>7</th>\n",
       "      <td>First Owner</td>\n",
       "      <td>0</td>\n",
       "    </tr>\n",
       "    <tr>\n",
       "      <th>8</th>\n",
       "      <td>First Owner</td>\n",
       "      <td>0</td>\n",
       "    </tr>\n",
       "    <tr>\n",
       "      <th>9</th>\n",
       "      <td>First Owner</td>\n",
       "      <td>0</td>\n",
       "    </tr>\n",
       "    <tr>\n",
       "      <th>10</th>\n",
       "      <td>First Owner</td>\n",
       "      <td>0</td>\n",
       "    </tr>\n",
       "    <tr>\n",
       "      <th>11</th>\n",
       "      <td>First Owner</td>\n",
       "      <td>0</td>\n",
       "    </tr>\n",
       "    <tr>\n",
       "      <th>12</th>\n",
       "      <td>First Owner</td>\n",
       "      <td>0</td>\n",
       "    </tr>\n",
       "    <tr>\n",
       "      <th>13</th>\n",
       "      <td>First Owner</td>\n",
       "      <td>0</td>\n",
       "    </tr>\n",
       "    <tr>\n",
       "      <th>14</th>\n",
       "      <td>First Owner</td>\n",
       "      <td>0</td>\n",
       "    </tr>\n",
       "    <tr>\n",
       "      <th>15</th>\n",
       "      <td>Second Owner</td>\n",
       "      <td>1</td>\n",
       "    </tr>\n",
       "    <tr>\n",
       "      <th>16</th>\n",
       "      <td>First Owner</td>\n",
       "      <td>0</td>\n",
       "    </tr>\n",
       "    <tr>\n",
       "      <th>17</th>\n",
       "      <td>First Owner</td>\n",
       "      <td>0</td>\n",
       "    </tr>\n",
       "    <tr>\n",
       "      <th>18</th>\n",
       "      <td>Second Owner</td>\n",
       "      <td>1</td>\n",
       "    </tr>\n",
       "    <tr>\n",
       "      <th>19</th>\n",
       "      <td>First Owner</td>\n",
       "      <td>0</td>\n",
       "    </tr>\n",
       "  </tbody>\n",
       "</table>\n",
       "</div>"
      ],
      "text/plain": [
       "           owner  owner_new\n",
       "0    First Owner          0\n",
       "1    First Owner          0\n",
       "2    First Owner          0\n",
       "3    First Owner          0\n",
       "4   Second Owner          1\n",
       "5    First Owner          0\n",
       "6   Second Owner          1\n",
       "7    First Owner          0\n",
       "8    First Owner          0\n",
       "9    First Owner          0\n",
       "10   First Owner          0\n",
       "11   First Owner          0\n",
       "12   First Owner          0\n",
       "13   First Owner          0\n",
       "14   First Owner          0\n",
       "15  Second Owner          1\n",
       "16   First Owner          0\n",
       "17   First Owner          0\n",
       "18  Second Owner          1\n",
       "19   First Owner          0"
      ]
     },
     "execution_count": 52,
     "metadata": {},
     "output_type": "execute_result"
    }
   ],
   "source": [
    "nitesh_ord=OrdinalEncoder(dtype=int)\n",
    "nitesh['owner_new']=nitesh_ord.fit_transform(nitesh[['owner']])\n",
    "nitesh[['owner','owner_new']].head(20)"
   ]
  },
  {
   "cell_type": "code",
   "execution_count": 54,
   "id": "d4497260-7907-44d6-866f-b20304feb1cf",
   "metadata": {},
   "outputs": [
    {
     "data": {
      "text/html": [
       "<div>\n",
       "<style scoped>\n",
       "    .dataframe tbody tr th:only-of-type {\n",
       "        vertical-align: middle;\n",
       "    }\n",
       "\n",
       "    .dataframe tbody tr th {\n",
       "        vertical-align: top;\n",
       "    }\n",
       "\n",
       "    .dataframe thead th {\n",
       "        text-align: right;\n",
       "    }\n",
       "</style>\n",
       "<table border=\"1\" class=\"dataframe\">\n",
       "  <thead>\n",
       "    <tr style=\"text-align: right;\">\n",
       "      <th></th>\n",
       "      <th>fuel</th>\n",
       "      <th>fuel_new</th>\n",
       "    </tr>\n",
       "  </thead>\n",
       "  <tbody>\n",
       "    <tr>\n",
       "      <th>0</th>\n",
       "      <td>Petrol</td>\n",
       "      <td>1</td>\n",
       "    </tr>\n",
       "    <tr>\n",
       "      <th>1</th>\n",
       "      <td>Petrol</td>\n",
       "      <td>1</td>\n",
       "    </tr>\n",
       "    <tr>\n",
       "      <th>2</th>\n",
       "      <td>Diesel</td>\n",
       "      <td>0</td>\n",
       "    </tr>\n",
       "    <tr>\n",
       "      <th>3</th>\n",
       "      <td>Petrol</td>\n",
       "      <td>1</td>\n",
       "    </tr>\n",
       "    <tr>\n",
       "      <th>4</th>\n",
       "      <td>Diesel</td>\n",
       "      <td>0</td>\n",
       "    </tr>\n",
       "    <tr>\n",
       "      <th>5</th>\n",
       "      <td>Petrol</td>\n",
       "      <td>1</td>\n",
       "    </tr>\n",
       "    <tr>\n",
       "      <th>6</th>\n",
       "      <td>Petrol</td>\n",
       "      <td>1</td>\n",
       "    </tr>\n",
       "    <tr>\n",
       "      <th>7</th>\n",
       "      <td>Petrol</td>\n",
       "      <td>1</td>\n",
       "    </tr>\n",
       "    <tr>\n",
       "      <th>8</th>\n",
       "      <td>Petrol</td>\n",
       "      <td>1</td>\n",
       "    </tr>\n",
       "    <tr>\n",
       "      <th>9</th>\n",
       "      <td>Petrol</td>\n",
       "      <td>1</td>\n",
       "    </tr>\n",
       "    <tr>\n",
       "      <th>10</th>\n",
       "      <td>Petrol</td>\n",
       "      <td>1</td>\n",
       "    </tr>\n",
       "    <tr>\n",
       "      <th>11</th>\n",
       "      <td>Petrol</td>\n",
       "      <td>1</td>\n",
       "    </tr>\n",
       "    <tr>\n",
       "      <th>12</th>\n",
       "      <td>Petrol</td>\n",
       "      <td>1</td>\n",
       "    </tr>\n",
       "    <tr>\n",
       "      <th>13</th>\n",
       "      <td>Diesel</td>\n",
       "      <td>0</td>\n",
       "    </tr>\n",
       "    <tr>\n",
       "      <th>14</th>\n",
       "      <td>Petrol</td>\n",
       "      <td>1</td>\n",
       "    </tr>\n",
       "    <tr>\n",
       "      <th>15</th>\n",
       "      <td>Diesel</td>\n",
       "      <td>0</td>\n",
       "    </tr>\n",
       "    <tr>\n",
       "      <th>16</th>\n",
       "      <td>Petrol</td>\n",
       "      <td>1</td>\n",
       "    </tr>\n",
       "    <tr>\n",
       "      <th>17</th>\n",
       "      <td>Petrol</td>\n",
       "      <td>1</td>\n",
       "    </tr>\n",
       "    <tr>\n",
       "      <th>18</th>\n",
       "      <td>Petrol</td>\n",
       "      <td>1</td>\n",
       "    </tr>\n",
       "    <tr>\n",
       "      <th>19</th>\n",
       "      <td>Petrol</td>\n",
       "      <td>1</td>\n",
       "    </tr>\n",
       "  </tbody>\n",
       "</table>\n",
       "</div>"
      ],
      "text/plain": [
       "      fuel  fuel_new\n",
       "0   Petrol         1\n",
       "1   Petrol         1\n",
       "2   Diesel         0\n",
       "3   Petrol         1\n",
       "4   Diesel         0\n",
       "5   Petrol         1\n",
       "6   Petrol         1\n",
       "7   Petrol         1\n",
       "8   Petrol         1\n",
       "9   Petrol         1\n",
       "10  Petrol         1\n",
       "11  Petrol         1\n",
       "12  Petrol         1\n",
       "13  Diesel         0\n",
       "14  Petrol         1\n",
       "15  Diesel         0\n",
       "16  Petrol         1\n",
       "17  Petrol         1\n",
       "18  Petrol         1\n",
       "19  Petrol         1"
      ]
     },
     "execution_count": 54,
     "metadata": {},
     "output_type": "execute_result"
    }
   ],
   "source": [
    "nitesh_ord=OrdinalEncoder(dtype=int)\n",
    "nitesh['fuel_new']=nitesh_ord.fit_transform(nitesh[['fuel']])\n",
    "nitesh[['fuel','fuel_new']].head(20)"
   ]
  },
  {
   "cell_type": "code",
   "execution_count": 58,
   "id": "603680ef-e234-4ea6-9664-b78e5aaa3dcc",
   "metadata": {},
   "outputs": [
    {
     "name": "stdout",
     "output_type": "stream",
     "text": [
      "-0.27762704341734934\n",
      "-0.20863704840276923\n",
      "0.41110276220633124\n",
      "-0.20552358731122453\n",
      "-0.1772027798572389\n"
     ]
    }
   ],
   "source": [
    "print(nitesh['fuel_new'].corr(nitesh['selling_price']))\n",
    "print(nitesh['seller_type_new'].corr(nitesh['selling_price']))\n",
    "print(nitesh['year'].corr(nitesh['selling_price']))\n",
    "print(nitesh['owner_new'].corr(nitesh['selling_price']))\n",
    "print(nitesh['km_driven'].corr(nitesh['selling_price']))"
   ]
  },
  {
   "cell_type": "code",
   "execution_count": 60,
   "id": "4b55a572-0bbf-4e34-8197-207ac88e7d60",
   "metadata": {},
   "outputs": [],
   "source": [
    "# The correlation are weak \n",
    "# The most correlated is year and fuel \n",
    "# The least correlated is km_driven and owner"
   ]
  },
  {
   "cell_type": "markdown",
   "id": "C3DFUuGXklO_",
   "metadata": {
    "id": "C3DFUuGXklO_"
   },
   "source": [
    "### Q3: Split Training and Testing Data\n",
    "* Machine learning models are trained to help make predictions for the future. Normally, we need to randomly split the dataset into training and testing sets, where we use the training set to train the model, and then leverage the well-trained model to make predictions on the testing set.\n",
    "* To further investigate whether the size of the training/testing data affects the model performance, please randomly split the data into training and testing sets with different sizes:\n",
    "    * Case 1: training data containing 10% of the entire data;\n",
    "    * Case 2: training data containing 90% of the entire data.\n",
    "* Print the shape of training and testing sets in the two cases."
   ]
  },
  {
   "cell_type": "code",
   "execution_count": 65,
   "id": "47f6b5cd",
   "metadata": {},
   "outputs": [
    {
     "name": "stdout",
     "output_type": "stream",
     "text": [
      "(365, 11)\n",
      "(3292, 11)\n"
     ]
    }
   ],
   "source": [
    "from sklearn.model_selection  import train_test_split\n",
    "train_1, test_1 = train_test_split(nitesh,test_size=0.90,random_state=142)\n",
    "print(train_1.shape)\n",
    "print(test_1.shape)"
   ]
  },
  {
   "cell_type": "code",
   "execution_count": 67,
   "id": "08d6e761-0d5d-48cf-bdfc-8d77c4747ec1",
   "metadata": {},
   "outputs": [
    {
     "name": "stdout",
     "output_type": "stream",
     "text": [
      "(3291, 11)\n",
      "(366, 11)\n"
     ]
    }
   ],
   "source": [
    "train_2, test_2 = train_test_split(nitesh,test_size=0.1,random_state=142)\n",
    "print(train_2.shape)\n",
    "print(test_2.shape)"
   ]
  },
  {
   "cell_type": "markdown",
   "id": "WiNRCPFoklO_",
   "metadata": {
    "id": "WiNRCPFoklO_"
   },
   "source": [
    "### Q4: Train Linear Regression Models with Feature Selection under Cases 1 & 2\n",
    "* When training a machine learning model for prediction, we may need to select the most important/correlated input features for more accurate results.\n",
    "* To investigate whether feature selection affects the model performance, please select two most correlated features and two least correlated features regarding selling_price, respectively.\n",
    "* Train four linear regression models by following the conditions:\n",
    "    - (model-a) using the training/testing data in case 1 with two most correlated input features\n",
    "    - (model-b) using the training/testing data in case 1 with two least correlated input features\n",
    "    - (model-c) using the training/testing data in case 2 with two most correlated input features\n",
    "    - (model-d) using the training/testing data in case 2 with two least correlated input features\n",
    "* By doing this, we can verify the impacts of the size of traing/testing data on the model performance via comparing model-a and model-c (or model-b and model-d); meanwhile the impacts of feature selection can be validated via comparing model-a and model-b (or model-c and model-d).    "
   ]
  },
  {
   "cell_type": "code",
   "execution_count": 72,
   "id": "7bcd6158",
   "metadata": {},
   "outputs": [
    {
     "name": "stdout",
     "output_type": "stream",
     "text": [
      "y = x * [  70504.93020988 -272387.52340889] + -141270631.1520198\n"
     ]
    }
   ],
   "source": [
    "from sklearn import linear_model\n",
    "# Training the linear Regression using the training/testing data in case 1 with two most correlated input features\n",
    "reg_nitesh_modela=linear_model.LinearRegression()\n",
    "X_train_1=train_1[['year','fuel_new']]\n",
    "y_train_1=train_1['selling_price']\n",
    "reg_nitesh_modela.fit(X_train_1, y_train_1)\n",
    "print(\"y = x *\" , reg_nitesh_modela.coef_, \"+\" , reg_nitesh_modela.intercept_)"
   ]
  },
  {
   "cell_type": "code",
   "execution_count": 74,
   "id": "eea5371a-5ff4-484f-a17d-4aa0a0b188cd",
   "metadata": {},
   "outputs": [
    {
     "name": "stdout",
     "output_type": "stream",
     "text": [
      "y = x * [-2.84937873e+00 -1.35019091e+05] + 768087.6850362453\n"
     ]
    }
   ],
   "source": [
    "# Training the linear Regression using the training/testing data in case 1 with two least correlated input features\n",
    "reg_nitesh_modelb=linear_model.LinearRegression()\n",
    "X_train_1 =  train_1[['km_driven','owner_new']]\n",
    "y_train_1 =  train_1['selling_price']\n",
    "reg_nitesh_modelb.fit(X_train_1, y_train_1)\n",
    "print(\"y = x *\" , reg_nitesh_modelb.coef_, \"+\" , reg_nitesh_modelb.intercept_)"
   ]
  },
  {
   "cell_type": "code",
   "execution_count": 76,
   "id": "2a74874e-6569-4d65-a318-095557f67a4d",
   "metadata": {},
   "outputs": [
    {
     "name": "stdout",
     "output_type": "stream",
     "text": [
      "y = x * [  52759.83492642 -251271.42877864] + -105592018.38618529\n"
     ]
    }
   ],
   "source": [
    "# Training the linear Regression using the training/testing data in case 1 with two most correlated input features\n",
    "reg_nitesh_modelc=linear_model.LinearRegression()\n",
    "X_train_2  =  train_2[['year','fuel_new']]\n",
    "y_train_2  =  train_2['selling_price']\n",
    "reg_nitesh_modelc.fit(X_train_2, y_train_2)\n",
    "print(\"y = x *\" , reg_nitesh_modelc.coef_, \"+\" , reg_nitesh_modelc.intercept_)"
   ]
  },
  {
   "cell_type": "code",
   "execution_count": 78,
   "id": "0fd65de8-afba-4c7b-8dba-46af26fa470f",
   "metadata": {},
   "outputs": [
    {
     "name": "stdout",
     "output_type": "stream",
     "text": [
      "y = x * [-1.40959516e+00 -1.59106586e+05] + 655857.930192141\n"
     ]
    }
   ],
   "source": [
    "# Training the linear Regression using the training/testing data in case 1 with two least correlated input features\n",
    "reg_nitesh_modeld=linear_model.LinearRegression()\n",
    "X_train_2 =  train_2[['km_driven','owner_new']]\n",
    "y_train_2 =  train_2['selling_price']\n",
    "reg_nitesh_modeld.fit(X_train_2, y_train_2)\n",
    "print(\"y = x *\" , reg_nitesh_modeld.coef_, \"+\" , reg_nitesh_modeld.intercept_)"
   ]
  },
  {
   "cell_type": "markdown",
   "id": "uIHDIRCYklO_",
   "metadata": {
    "id": "uIHDIRCYklO_"
   },
   "source": [
    "### Q5: Evaluate Models\n",
    "* Evaluate the performance of the four models with two metrics, including MSE and Root MSE\n",
    "* Print the results of the four models regarding the two metrics"
   ]
  },
  {
   "cell_type": "code",
   "execution_count": 83,
   "id": "99e2399a-8c49-48d6-a9bd-90d783a4386c",
   "metadata": {},
   "outputs": [
    {
     "name": "stdout",
     "output_type": "stream",
     "text": [
      "MSE: 237037203355.69217\n",
      "Root mse modelA:  486864.6663660161\n"
     ]
    }
   ],
   "source": [
    "from sklearn.metrics import r2_score\n",
    "X_test_1=test_1[['year','fuel_new']]\n",
    "y_test_1=test_1['selling_price']\n",
    "predicted = reg_nitesh_modela.predict(X_test_1)\n",
    "mse1 = ((np.array(y_test_1)-predicted)**2).sum()/len(y_test_1)\n",
    "rmse1=np.sqrt(mse1)\n",
    "print(\"MSE:\",mse1)\n",
    "print(\"Root mse modelA: \", rmse1)"
   ]
  },
  {
   "cell_type": "code",
   "execution_count": 85,
   "id": "61621c39",
   "metadata": {},
   "outputs": [
    {
     "name": "stdout",
     "output_type": "stream",
     "text": [
      "MSE: 282106679257.3627\n",
      "Root mse modelB:  531137.1567282435\n"
     ]
    }
   ],
   "source": [
    "X_test_1=test_1[['km_driven','owner_new']]\n",
    "y_test_1=test_1['selling_price']\n",
    "predicted = reg_nitesh_modelb.predict(X_test_1)\n",
    "mse2 = ((np.array(y_test_1)-predicted)**2).sum()/len(y_test_1)\n",
    "rmse2=np.sqrt(mse2)\n",
    "print(\"MSE:\",mse2)\n",
    "print(\"Root mse modelB: \", rmse2 )"
   ]
  },
  {
   "cell_type": "code",
   "execution_count": 87,
   "id": "25d8c38f-e78a-4402-99b6-adafc8afe3b8",
   "metadata": {},
   "outputs": [
    {
     "name": "stdout",
     "output_type": "stream",
     "text": [
      "MSE: 182412290275.45175\n",
      "Root mse modelC:  427097.51846089173\n"
     ]
    }
   ],
   "source": [
    "X_test_2=test_2[['year','fuel_new']]\n",
    "y_test_2=test_2['selling_price']\n",
    "predicted = reg_nitesh_modelc.predict(X_test_2)\n",
    "mse3 = ((np.array(y_test_2)-predicted)**2).sum()/len(y_test_2)\n",
    "rmse3=np.sqrt(mse3)\n",
    "print(\"MSE:\",mse3)\n",
    "print(\"Root mse modelC: \", rmse3 )"
   ]
  },
  {
   "cell_type": "code",
   "execution_count": 89,
   "id": "fe74edf1-b8e2-475c-9abb-607dfa189efd",
   "metadata": {},
   "outputs": [
    {
     "name": "stdout",
     "output_type": "stream",
     "text": [
      "MSE: 241892693210.4285\n",
      "Root mse modelD:  491825.8769223398\n"
     ]
    }
   ],
   "source": [
    "X_test_2=test_2[['km_driven','owner_new']]\n",
    "y_test_2=test_2['selling_price']\n",
    "predicted = reg_nitesh_modeld.predict(X_test_2)\n",
    "mse4 = ((np.array(y_test_2)-predicted)**2).sum()/len(y_test_2)\n",
    "rmse4=np.sqrt(mse4)\n",
    "print(\"MSE:\",mse4)\n",
    "print(\"Root mse modelD: \", rmse4 )"
   ]
  },
  {
   "cell_type": "markdown",
   "id": "6wmgPAzpklPA",
   "metadata": {
    "id": "6wmgPAzpklPA"
   },
   "source": [
    "### Q6: Visualize, Compare and Analyze the Results\n",
    "* Visulize the results, and perform ___insightful analysis___ on the obtained results. For better visualization, you may need to carefully set the scale for the y-axis.\n",
    "* Normally, the model trained with most correlated features and more training data will get better results. Do you obtain the similar observations? If not, please ___explain the possible reasons___."
   ]
  },
  {
   "cell_type": "code",
   "execution_count": 91,
   "id": "u0dpqTCmklPA",
   "metadata": {
    "id": "u0dpqTCmklPA"
   },
   "outputs": [
    {
     "data": {
      "text/html": [
       "<div>\n",
       "<style scoped>\n",
       "    .dataframe tbody tr th:only-of-type {\n",
       "        vertical-align: middle;\n",
       "    }\n",
       "\n",
       "    .dataframe tbody tr th {\n",
       "        vertical-align: top;\n",
       "    }\n",
       "\n",
       "    .dataframe thead th {\n",
       "        text-align: right;\n",
       "    }\n",
       "</style>\n",
       "<table border=\"1\" class=\"dataframe\">\n",
       "  <thead>\n",
       "    <tr style=\"text-align: right;\">\n",
       "      <th></th>\n",
       "      <th>nitesh_MSE</th>\n",
       "    </tr>\n",
       "  </thead>\n",
       "  <tbody>\n",
       "    <tr>\n",
       "      <th>mse1</th>\n",
       "      <td>2.370372e+11</td>\n",
       "    </tr>\n",
       "    <tr>\n",
       "      <th>mse2</th>\n",
       "      <td>2.821067e+11</td>\n",
       "    </tr>\n",
       "    <tr>\n",
       "      <th>mse3</th>\n",
       "      <td>1.824123e+11</td>\n",
       "    </tr>\n",
       "    <tr>\n",
       "      <th>mse4</th>\n",
       "      <td>2.418927e+11</td>\n",
       "    </tr>\n",
       "  </tbody>\n",
       "</table>\n",
       "</div>"
      ],
      "text/plain": [
       "        nitesh_MSE\n",
       "mse1  2.370372e+11\n",
       "mse2  2.821067e+11\n",
       "mse3  1.824123e+11\n",
       "mse4  2.418927e+11"
      ]
     },
     "execution_count": 91,
     "metadata": {},
     "output_type": "execute_result"
    }
   ],
   "source": [
    "nitesh_MSE=pd.DataFrame({'nitesh_MSE' : [mse1,mse2,mse3,mse4]},index =['mse1','mse2','mse3','mse4'])\n",
    "nitesh_MSE"
   ]
  },
  {
   "cell_type": "code",
   "execution_count": 93,
   "id": "313f98ed-e3a0-4d19-a817-1733974f9052",
   "metadata": {},
   "outputs": [
    {
     "data": {
      "text/html": [
       "<div>\n",
       "<style scoped>\n",
       "    .dataframe tbody tr th:only-of-type {\n",
       "        vertical-align: middle;\n",
       "    }\n",
       "\n",
       "    .dataframe tbody tr th {\n",
       "        vertical-align: top;\n",
       "    }\n",
       "\n",
       "    .dataframe thead th {\n",
       "        text-align: right;\n",
       "    }\n",
       "</style>\n",
       "<table border=\"1\" class=\"dataframe\">\n",
       "  <thead>\n",
       "    <tr style=\"text-align: right;\">\n",
       "      <th></th>\n",
       "      <th>nitesh_RMSE</th>\n",
       "    </tr>\n",
       "  </thead>\n",
       "  <tbody>\n",
       "    <tr>\n",
       "      <th>rmse1</th>\n",
       "      <td>486864.666366</td>\n",
       "    </tr>\n",
       "    <tr>\n",
       "      <th>rmse2</th>\n",
       "      <td>531137.156728</td>\n",
       "    </tr>\n",
       "    <tr>\n",
       "      <th>rmse3</th>\n",
       "      <td>427097.518461</td>\n",
       "    </tr>\n",
       "    <tr>\n",
       "      <th>rmse4</th>\n",
       "      <td>491825.876922</td>\n",
       "    </tr>\n",
       "  </tbody>\n",
       "</table>\n",
       "</div>"
      ],
      "text/plain": [
       "         nitesh_RMSE\n",
       "rmse1  486864.666366\n",
       "rmse2  531137.156728\n",
       "rmse3  427097.518461\n",
       "rmse4  491825.876922"
      ]
     },
     "execution_count": 93,
     "metadata": {},
     "output_type": "execute_result"
    }
   ],
   "source": [
    "nitesh_RMSE=pd.DataFrame({'nitesh_RMSE' : [rmse1,rmse2,rmse3,rmse4]},index =['rmse1','rmse2','rmse3','rmse4'])\n",
    "nitesh_RMSE"
   ]
  },
  {
   "cell_type": "code",
   "execution_count": 97,
   "id": "42a59ae2-a1a6-4b00-b480-711173eba0f8",
   "metadata": {},
   "outputs": [
    {
     "data": {
      "text/plain": [
       "<BarContainer object of 4 artists>"
      ]
     },
     "execution_count": 97,
     "metadata": {},
     "output_type": "execute_result"
    },
    {
     "data": {
      "image/png": "[encoded data removed]",
      "text/plain": [
       "<Figure size 1600x800 with 2 Axes>"
      ]
     },
     "metadata": {},
     "output_type": "display_data"
    }
   ],
   "source": [
    "plt.figure(figsize=(16,8))\n",
    "\n",
    "plt.subplot(1,2,1)\n",
    "plt.xlabel(\"Different MSE model\")\n",
    "plt.ylabel(\"mse\")\n",
    "plt.ylim(1.6,1.9)\n",
    "plt.title(\"different mse models comparison\")\n",
    "plt.bar(data=nitesh_MSE,x=['mse1','mse2','mse3','mse4'],height='rahul_MSE',color='indianred')\n",
    "\n",
    "\n",
    "plt.subplot(1,2,2)\n",
    "plt.xlabel(\"Different RMSE model\")\n",
    "plt.ylabel(\"rmse\")\n",
    "plt.ylim(1.6,1.9)\n",
    "plt.title(\"different rmse models comparison\")\n",
    "plt.ylim(1.2,1.4)\n",
    "plt.bar(data=nitesh_RMSE,x=['rmse1','rmse2','rmse3','rmse4'],height='nitesh_RMSE')"
   ]
  },
  {
   "cell_type": "markdown",
   "id": "f97796c2",
   "metadata": {},
   "source": [
    "### Q7: Data Science Ethics\n",
    "*Please read the following examples [Click here to read the example_1.](https://www.vox.com/covid-19-coronavirus-us-response-trump/2020/5/18/21262265/georgia-covid-19-cases-declining-reopening) [Click here to read the example_2.](https://viborc.com/ethics-and-ethical-data-visualization-a-complete-guide/)\n",
    "\n",
    "*Then view the picture ![My Image](figure_portfolio2.png \"This is my image\")\n",
    "Please compose an analysis of 100-200 words that evaluates potential ethical concerns associated with the infographic, detailing the reasons behind these issues.\n"
   ]
  },
  {
   "cell_type": "code",
   "execution_count": null,
   "id": "53bddf20",
   "metadata": {},
   "outputs": [],
   "source": []
  }
 ],
 "metadata": {
  "colab": {
   "provenance": []
  },
  "kernelspec": {
   "display_name": "Python 3 (ipykernel)",
   "language": "python",
   "name": "python3"
  },
  "language_info": {
   "codemirror_mode": {
    "name": "ipython",
    "version": 3
   },
   "file_extension": ".py",
   "mimetype": "text/x-python",
   "name": "python",
   "nbconvert_exporter": "python",
   "pygments_lexer": "ipython3",
   "version": "3.11.5"
  }
 },
 "nbformat": 4,
 "nbformat_minor": 5
}
